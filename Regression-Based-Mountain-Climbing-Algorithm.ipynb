{
 "cells": [
  {
   "cell_type": "code",
   "execution_count": 1,
   "metadata": {},
   "outputs": [],
   "source": [
    "import statsmodels.api as sm\n",
    "import matplotlib.pyplot as plt\n",
    "import numpy as np\n",
    "import pandas as pd\n",
    "from sklearn import datasets, linear_model\n",
    "from sklearn.metrics import mean_squared_error, r2_score\n",
    "from sklearn.model_selection import train_test_split"
   ]
  },
  {
   "cell_type": "markdown",
   "metadata": {},
   "source": [
    "# Question 1"
   ]
  },
  {
   "cell_type": "code",
   "execution_count": 2,
   "metadata": {},
   "outputs": [],
   "source": [
    "#Load dataset\n",
    "data = datasets.load_boston()"
   ]
  },
  {
   "cell_type": "code",
   "execution_count": 3,
   "metadata": {},
   "outputs": [
    {
     "name": "stdout",
     "output_type": "stream",
     "text": [
      "                            OLS Regression Results                            \n",
      "==============================================================================\n",
      "Dep. Variable:                      y   R-squared:                       0.328\n",
      "Model:                            OLS   Adj. R-squared:                  0.325\n",
      "Method:                 Least Squares   F-statistic:                     122.9\n",
      "Date:                Fri, 29 Mar 2019   Prob (F-statistic):           3.28e-44\n",
      "Time:                        13:39:41   Log-Likelihood:                -2232.5\n",
      "No. Observations:                 506   AIC:                             4469.\n",
      "Df Residuals:                     504   BIC:                             4478.\n",
      "Df Model:                           2                                         \n",
      "Covariance Type:            nonrobust                                         \n",
      "==============================================================================\n",
      "                 coef    std err          t      P>|t|      [0.025      0.975]\n",
      "------------------------------------------------------------------------------\n",
      "x1             0.5777      0.095      6.053      0.000       0.390       0.765\n",
      "x2             0.4951      0.034     14.442      0.000       0.428       0.562\n",
      "==============================================================================\n",
      "Omnibus:                       42.033   Durbin-Watson:                   0.271\n",
      "Prob(Omnibus):                  0.000   Jarque-Bera (JB):               79.407\n",
      "Skew:                          -0.514   Prob(JB):                     5.72e-18\n",
      "Kurtosis:                       4.646   Cond. No.                         2.78\n",
      "==============================================================================\n",
      "\n",
      "Warnings:\n",
      "[1] Standard Errors assume that the covariance matrix of the errors is correctly specified.\n"
     ]
    }
   ],
   "source": [
    "#Use 2 colums of the data for OLS regression analysis\n",
    "model = sm.OLS(data.target, data.data[:,:2]).fit()\n",
    "print_model = model.summary()\n",
    "print(print_model)"
   ]
  },
  {
   "cell_type": "code",
   "execution_count": 4,
   "metadata": {},
   "outputs": [],
   "source": [
    "#Gradient descent algorithm\n",
    "def gradient_descent(theta,x,y, alpha, no_iter):\n",
    "    theta = np.squeeze(theta)\n",
    "    cost_hist = []\n",
    "    tempX = np.concatenate((np.array([np.ones(len(y))]).transpose(),x), axis=1)\n",
    "\n",
    "    for i in range(no_iter):\n",
    "        predictions = np.dot(tempX, theta)\n",
    "        cost_hist.append((1/(2*len(y)))*sum(pow(np.squeeze(predictions) - y, 2)))\n",
    "        gradient = np.dot(tempX.transpose(),(np.squeeze(predictions) - y))\n",
    "        theta = theta - (np.multiply((alpha * (1 / len(y))), gradient))\n",
    "\n",
    "    return theta, cost_hist"
   ]
  },
  {
   "cell_type": "code",
   "execution_count": 5,
   "metadata": {},
   "outputs": [],
   "source": [
    "#Initialize hypothesis function coefficients\n",
    "theta_init = np.zeros(3)\n",
    "no_iter = 300000\n",
    "[thetas,cost_hist] = gradient_descent(theta_init,data.data[:,:2],data.target,0.00000017,no_iter)"
   ]
  },
  {
   "cell_type": "code",
   "execution_count": 6,
   "metadata": {},
   "outputs": [
    {
     "name": "stdout",
     "output_type": "stream",
     "text": [
      "[0.77357531 0.54567285 0.48239034]\n"
     ]
    }
   ],
   "source": [
    "#Check the coefficients outputted by gradient descent to compare them with OLS\n",
    "#The results are very close to the ones of OLS\n",
    "print(thetas)"
   ]
  },
  {
   "cell_type": "code",
   "execution_count": 8,
   "metadata": {},
   "outputs": [
    {
     "data": {
      "text/plain": [
       "[<matplotlib.lines.Line2D at 0x11c380c50>]"
      ]
     },
     "execution_count": 8,
     "metadata": {},
     "output_type": "execute_result"
    },
    {
     "data": {
      "image/png": "[encoded data removed]",
      "text/plain": [
       "<Figure size 432x288 with 1 Axes>"
      ]
     },
     "metadata": {},
     "output_type": "display_data"
    }
   ],
   "source": [
    "#Demonstrate the evolution of the iterative errors\n",
    "plt.plot(cost_hist, range(no_iter))"
   ]
  },
  {
   "cell_type": "markdown",
   "metadata": {},
   "source": [
    "# QUESTION 2"
   ]
  },
  {
   "cell_type": "markdown",
   "metadata": {},
   "source": [
    "### Note: Left bottom corner of the given volcano is assumed to have (0,0) coordinates"
   ]
  },
  {
   "cell_type": "code",
   "execution_count": 9,
   "metadata": {},
   "outputs": [],
   "source": [
    "#Load dataset\n",
    "data = pd.read_csv(\"homework03.volcano.csv\", header=None)\n",
    "\n",
    "#Create feaure and label vectors\n",
    "x1 = []\n",
    "x2 = []\n",
    "Y = []\n",
    "for i in range(61):\n",
    "    for j in range(87):\n",
    "        x2.append(i)\n",
    "        x1.append(j)\n",
    "        Y.append(data[j][60 - i])\n",
    "X = np.column_stack((x1, x2))"
   ]
  },
  {
   "cell_type": "code",
   "execution_count": 10,
   "metadata": {},
   "outputs": [],
   "source": [
    "#Initialize regression coefficients\n",
    "theta_init = np.zeros(3)\n",
    "\n",
    "#Start from the point [87,1]\n",
    "max_cord = [86,0]\n",
    "max_cord_hist = [[86,0]]\n",
    "max_value_hist = [94]\n",
    "\n",
    "#Set the point [87,1] as our ground by subtracting its height (94) from all points\n",
    "Y = list(map(lambda x: x - 94, Y))\n",
    "\n",
    "#Apply regression iteratively to climb the mountain\n",
    "for i in range(15):\n",
    "    X_aug = sm.add_constant(X)\n",
    "    #Apply regression\n",
    "    #Below statement is the gradient descent algorithm I wrote but for performance reasons I commented it out and used OLS\n",
    "    #[thetas,cost_hist] = gradient_descent(theta_init, X_aug, Y,0.00000017,30000)\n",
    "    result = sm.OLS(Y, X_aug).fit()\n",
    "    thetas = result.params\n",
    "    \n",
    "    #Find the highest intersection of our prediction plane and the mountain\n",
    "    predictions = np.matmul(X_aug,thetas)\n",
    "\n",
    "    pred_mat = predictions.reshape((61,87))\n",
    "    Y_mat = np.array(Y).reshape((61,87))\n",
    "\n",
    "    diff_mat = np.subtract(Y_mat, pred_mat)\n",
    "\n",
    "    max_point = -1000\n",
    "    for i in (range(diff_mat.shape[0])):\n",
    "        for j in (range(diff_mat.shape[1])):\n",
    "            if diff_mat[i][j] >= 0 and max_point < pred_mat[i][j]:\n",
    "                max_point = Y_mat[i][j]\n",
    "                max_cord = [i,j]\n",
    "\n",
    "    #Subtract the height of the hisghest intersection point from the heights of all points on the mountain\n",
    "    #to start from that point in the next iteration\n",
    "    trunc_mat = np.subtract(Y_mat,max_point)\n",
    "    max_cord_hist.append(max_cord)\n",
    "    max_value_hist.append(max_point)\n",
    "    \n",
    "    for i in (range(diff_mat.shape[0])):\n",
    "        for j in (range(diff_mat.shape[1])):\n",
    "            if trunc_mat[i][j] < 0:\n",
    "                trunc_mat[i][j] = 0\n",
    "                \n",
    "    Y_after = []\n",
    "    for i in range(61):\n",
    "        for j in range(87):\n",
    "            Y_after.append(trunc_mat[i][j])\n",
    "    #Update our mountain\n",
    "    Y = Y_after"
   ]
  },
  {
   "cell_type": "code",
   "execution_count": 11,
   "metadata": {},
   "outputs": [
    {
     "name": "stdout",
     "output_type": "stream",
     "text": [
      "[20, 19]\n",
      "188\n"
     ]
    }
   ],
   "source": [
    "#Print the last location & its altitude\n",
    "print(max_cord)\n",
    "print(data[max_cord[1]][60 - max_cord[0]])"
   ]
  },
  {
   "cell_type": "code",
   "execution_count": 12,
   "metadata": {},
   "outputs": [
    {
     "name": "stdout",
     "output_type": "stream",
     "text": [
      "[[86, 0], [26, 7], [21, 11], [17, 16], [11, 26], [23, 13], [14, 22], [13, 24], [13, 26], [13, 27], [14, 25], [15, 26], [17, 21], [18, 21], [19, 20], [20, 19]]\n"
     ]
    }
   ],
   "source": [
    "#Print the climbing trajectory \n",
    "print(max_cord_hist)"
   ]
  },
  {
   "cell_type": "code",
   "execution_count": 13,
   "metadata": {},
   "outputs": [
    {
     "name": "stdout",
     "output_type": "stream",
     "text": [
      "[94, 51, 12, 8, 4, 5, 2, 1, 1, 1, 1, 1, 3, 1, 1, 2]\n"
     ]
    }
   ],
   "source": [
    "#Print the climbing steps at each iteration\n",
    "print(max_value_hist)"
   ]
  },
  {
   "cell_type": "code",
   "execution_count": 14,
   "metadata": {},
   "outputs": [
    {
     "data": {
      "text/plain": [
       "188"
      ]
     },
     "execution_count": 14,
     "metadata": {},
     "output_type": "execute_result"
    }
   ],
   "source": [
    "#Sum the climbing steps to see if they add up to the highest point reached\n",
    "sum(max_value_hist)"
   ]
  }
 ],
 "metadata": {
  "kernelspec": {
   "display_name": "mynet",
   "language": "python",
   "name": "mynet"
  },
  "language_info": {
   "codemirror_mode": {
    "name": "ipython",
    "version": 3
   },
   "file_extension": ".py",
   "mimetype": "text/x-python",
   "name": "python",
   "nbconvert_exporter": "python",
   "pygments_lexer": "ipython3",
   "version": "3.6.5"
  }
 },
 "nbformat": 4,
 "nbformat_minor": 2
}
